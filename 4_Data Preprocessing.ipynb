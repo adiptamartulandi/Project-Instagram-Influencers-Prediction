{
 "cells": [
  {
   "cell_type": "markdown",
   "metadata": {},
   "source": [
    "# 1.0 Import Dependencies"
   ]
  },
  {
   "cell_type": "code",
   "execution_count": 1,
   "metadata": {},
   "outputs": [],
   "source": [
    "import pandas as pd\n",
    "pd.set_option('display.max_columns', None)\n",
    "import numpy as np\n",
    "\n",
    "import datetime as dt\n",
    "\n",
    "import seaborn as sns\n",
    "import matplotlib.pyplot as plt\n",
    "\n",
    "import warnings\n",
    "warnings.filterwarnings('ignore')"
   ]
  },
  {
   "cell_type": "markdown",
   "metadata": {},
   "source": [
    "# 2.0 Load Data"
   ]
  },
  {
   "cell_type": "code",
   "execution_count": 157,
   "metadata": {},
   "outputs": [],
   "source": [
    "#Load all data from bacth 1 untul 5\n",
    "data_batch_1 = pd.read_csv(r'data_batch_1.csv')\n",
    "data_batch_2 = pd.read_csv(r'data_batch_2.csv')\n",
    "data_batch_3 = pd.read_csv(r'data_batch_3.csv')\n",
    "data_batch_4 = pd.read_csv(r'data_batch_4.csv')\n",
    "data_batch_5 = pd.read_csv(r'data_batch_5.csv')\n",
    "data_batch_6 = pd.read_csv(r'data_batch_6.csv')\n",
    "\n",
    "#general information data\n",
    "data_general = pd.read_csv(r'influencer_names_final.csv')"
   ]
  },
  {
   "cell_type": "code",
   "execution_count": 158,
   "metadata": {},
   "outputs": [],
   "source": [
    "#concat all data\n",
    "data_detail = pd.concat([data_batch_1,\n",
    "           data_batch_2,\n",
    "           data_batch_3,\n",
    "           data_batch_4,\n",
    "           data_batch_5,\n",
    "           data_batch_6],\n",
    "          ignore_index=True)"
   ]
  },
  {
   "cell_type": "code",
   "execution_count": 159,
   "metadata": {},
   "outputs": [],
   "source": [
    "#join with general data\n",
    "df = pd.merge(data_detail, data_general, how='left')"
   ]
  },
  {
   "cell_type": "code",
   "execution_count": 160,
   "metadata": {},
   "outputs": [
    {
     "data": {
      "text/html": [
       "<div>\n",
       "<style scoped>\n",
       "    .dataframe tbody tr th:only-of-type {\n",
       "        vertical-align: middle;\n",
       "    }\n",
       "\n",
       "    .dataframe tbody tr th {\n",
       "        vertical-align: top;\n",
       "    }\n",
       "\n",
       "    .dataframe thead th {\n",
       "        text-align: right;\n",
       "    }\n",
       "</style>\n",
       "<table border=\"1\" class=\"dataframe\">\n",
       "  <thead>\n",
       "    <tr style=\"text-align: right;\">\n",
       "      <th></th>\n",
       "      <th>link</th>\n",
       "      <th>likes</th>\n",
       "      <th>comment_counts</th>\n",
       "      <th>dates</th>\n",
       "      <th>captions</th>\n",
       "      <th>type_posts</th>\n",
       "      <th>username</th>\n",
       "      <th>following</th>\n",
       "      <th>post</th>\n",
       "      <th>followers</th>\n",
       "    </tr>\n",
       "  </thead>\n",
       "  <tbody>\n",
       "    <tr>\n",
       "      <th>0</th>\n",
       "      <td>https://www.instagram.com/p/CCXR2t6BN_6/</td>\n",
       "      <td>154552</td>\n",
       "      <td>0</td>\n",
       "      <td>1594174009</td>\n",
       "      <td>•\\nWho Said We Are Old...No We Are Blessed,\\n....</td>\n",
       "      <td>GraphImage</td>\n",
       "      <td>princessyahrini</td>\n",
       "      <td>649</td>\n",
       "      <td>4769</td>\n",
       "      <td>33500000</td>\n",
       "    </tr>\n",
       "    <tr>\n",
       "      <th>1</th>\n",
       "      <td>https://www.instagram.com/p/CCNHaLhBndL/</td>\n",
       "      <td>52771</td>\n",
       "      <td>9</td>\n",
       "      <td>1593833275</td>\n",
       "      <td>“ How We Miss Tokyo So Much “\\n\\n_____________...</td>\n",
       "      <td>GraphVideo</td>\n",
       "      <td>princessyahrini</td>\n",
       "      <td>649</td>\n",
       "      <td>4769</td>\n",
       "      <td>33500000</td>\n",
       "    </tr>\n",
       "    <tr>\n",
       "      <th>2</th>\n",
       "      <td>https://www.instagram.com/p/CCFU-mFhKJi/</td>\n",
       "      <td>97386</td>\n",
       "      <td>0</td>\n",
       "      <td>1593571666</td>\n",
       "      <td>•\\nOh...Hi July,\\nGood Morning !\\n\\n__________...</td>\n",
       "      <td>GraphImage</td>\n",
       "      <td>princessyahrini</td>\n",
       "      <td>649</td>\n",
       "      <td>4769</td>\n",
       "      <td>33500000</td>\n",
       "    </tr>\n",
       "    <tr>\n",
       "      <th>3</th>\n",
       "      <td>https://www.instagram.com/p/CCDUy0rhY4U/</td>\n",
       "      <td>43953</td>\n",
       "      <td>5</td>\n",
       "      <td>1593505188</td>\n",
       "      <td>From Our Honeymoon,\\nSummer 2019 !\\n\\n________...</td>\n",
       "      <td>GraphVideo</td>\n",
       "      <td>princessyahrini</td>\n",
       "      <td>649</td>\n",
       "      <td>4769</td>\n",
       "      <td>33500000</td>\n",
       "    </tr>\n",
       "    <tr>\n",
       "      <th>4</th>\n",
       "      <td>https://www.instagram.com/p/CB4WqVRBAOP/</td>\n",
       "      <td>145632</td>\n",
       "      <td>0</td>\n",
       "      <td>1593136341</td>\n",
       "      <td>•\\nSelamat pagi !\\n\\n__________________ 𝓢𝓨𝓡___...</td>\n",
       "      <td>GraphImage</td>\n",
       "      <td>princessyahrini</td>\n",
       "      <td>649</td>\n",
       "      <td>4769</td>\n",
       "      <td>33500000</td>\n",
       "    </tr>\n",
       "  </tbody>\n",
       "</table>\n",
       "</div>"
      ],
      "text/plain": [
       "                                       link   likes  comment_counts  \\\n",
       "0  https://www.instagram.com/p/CCXR2t6BN_6/  154552               0   \n",
       "1  https://www.instagram.com/p/CCNHaLhBndL/   52771               9   \n",
       "2  https://www.instagram.com/p/CCFU-mFhKJi/   97386               0   \n",
       "3  https://www.instagram.com/p/CCDUy0rhY4U/   43953               5   \n",
       "4  https://www.instagram.com/p/CB4WqVRBAOP/  145632               0   \n",
       "\n",
       "        dates                                           captions  type_posts  \\\n",
       "0  1594174009  •\\nWho Said We Are Old...No We Are Blessed,\\n....  GraphImage   \n",
       "1  1593833275  “ How We Miss Tokyo So Much “\\n\\n_____________...  GraphVideo   \n",
       "2  1593571666  •\\nOh...Hi July,\\nGood Morning !\\n\\n__________...  GraphImage   \n",
       "3  1593505188  From Our Honeymoon,\\nSummer 2019 !\\n\\n________...  GraphVideo   \n",
       "4  1593136341  •\\nSelamat pagi !\\n\\n__________________ 𝓢𝓨𝓡___...  GraphImage   \n",
       "\n",
       "          username  following  post  followers  \n",
       "0  princessyahrini        649  4769   33500000  \n",
       "1  princessyahrini        649  4769   33500000  \n",
       "2  princessyahrini        649  4769   33500000  \n",
       "3  princessyahrini        649  4769   33500000  \n",
       "4  princessyahrini        649  4769   33500000  "
      ]
     },
     "execution_count": 160,
     "metadata": {},
     "output_type": "execute_result"
    }
   ],
   "source": [
    "#top 5 our data\n",
    "df.head()"
   ]
  },
  {
   "cell_type": "code",
   "execution_count": 161,
   "metadata": {},
   "outputs": [
    {
     "data": {
      "text/plain": [
       "(65998, 10)"
      ]
     },
     "execution_count": 161,
     "metadata": {},
     "output_type": "execute_result"
    }
   ],
   "source": [
    "#Initially i have 65.998 rows and 10 features\n",
    "df.shape"
   ]
  },
  {
   "cell_type": "markdown",
   "metadata": {},
   "source": [
    "# 3.0 Data Preprocessing Stage"
   ]
  },
  {
   "cell_type": "markdown",
   "metadata": {},
   "source": [
    "## 3.1 Convert Feature Dates\n",
    "- because the dates format is in epochs, so we must convert it to general datetime format\n",
    "- the new format is year-month-day-hour when the post is being posted by influencers"
   ]
  },
  {
   "cell_type": "code",
   "execution_count": 162,
   "metadata": {},
   "outputs": [],
   "source": [
    "df['dates'] = df['dates'].apply(lambda x: dt.datetime.fromtimestamp(x).strftime('%Y-%m-%d-%H'))"
   ]
  },
  {
   "cell_type": "code",
   "execution_count": 163,
   "metadata": {},
   "outputs": [
    {
     "name": "stdout",
     "output_type": "stream",
     "text": [
      "2014-12-01-23\n",
      "2020-07-12-20\n"
     ]
    }
   ],
   "source": [
    "print(df['dates'].min())\n",
    "print(df['dates'].max())"
   ]
  },
  {
   "cell_type": "markdown",
   "metadata": {},
   "source": [
    "## 3.2 Cleansing Features Captions"
   ]
  },
  {
   "cell_type": "code",
   "execution_count": 164,
   "metadata": {},
   "outputs": [],
   "source": [
    "df['captions'] = df['captions'].replace(r'[\\n]', '', regex=True)"
   ]
  },
  {
   "cell_type": "code",
   "execution_count": 165,
   "metadata": {},
   "outputs": [
    {
     "data": {
      "text/plain": [
       "link                0\n",
       "likes               0\n",
       "comment_counts      0\n",
       "dates               0\n",
       "captions          303\n",
       "type_posts          0\n",
       "username            0\n",
       "following           0\n",
       "post                0\n",
       "followers           0\n",
       "dtype: int64"
      ]
     },
     "execution_count": 165,
     "metadata": {},
     "output_type": "execute_result"
    }
   ],
   "source": [
    "df.isnull().sum()"
   ]
  },
  {
   "cell_type": "code",
   "execution_count": 166,
   "metadata": {},
   "outputs": [],
   "source": [
    "#fill missing value in features captions\n",
    "df['captions'] = df['captions'].fillna('No Captions')"
   ]
  },
  {
   "cell_type": "markdown",
   "metadata": {},
   "source": [
    "# 4.0 Feature Engineering Stage 1\n",
    "- this is my own definition related to engagement.\n",
    "    - likes_engagement = number of likes each post / number of followers\n",
    "    - comments_engagement = number of comments each post / number of followers\n",
    "    - total_engagement = likes_engagement + comments_engagement\n",
    "    - our objective is to predict total engagemnt"
   ]
  },
  {
   "cell_type": "markdown",
   "metadata": {},
   "source": [
    "## 4.1 Feature dates"
   ]
  },
  {
   "cell_type": "code",
   "execution_count": 167,
   "metadata": {},
   "outputs": [],
   "source": [
    "#separte for future use\n",
    "df['year'] = df['dates'].apply(lambda x: x[:4])\n",
    "df['month'] = df['dates'].apply(lambda x: x[5:7])\n",
    "df['day'] = df['dates'].apply(lambda x: x[8:10])\n",
    "df['hour'] = df['dates'].apply(lambda x: x[11:])\n",
    "\n",
    "#create year_month features\n",
    "df['year_month'] = df['year'] + df['month']"
   ]
  },
  {
   "cell_type": "code",
   "execution_count": 168,
   "metadata": {},
   "outputs": [],
   "source": [
    "#because the count of post before 2018 is small, we only filter post that >= 2018\n",
    "#and our objective is to predict avg engagment rate in July 2020, so we must exclude July 2020 too.\n",
    "df_2 = df[df['year']>='2018'].reset_index(drop=True)\n",
    "df_3 = df_2[df_2['year_month']!='202007'].reset_index(drop=True)"
   ]
  },
  {
   "cell_type": "markdown",
   "metadata": {},
   "source": [
    "## 4.2 Feature Engagement"
   ]
  },
  {
   "cell_type": "code",
   "execution_count": 169,
   "metadata": {},
   "outputs": [],
   "source": [
    "df_3['likes_engagement'] = df_3['likes'] / df_3['followers'] * 100\n",
    "df_3['comments_engagement'] = df_3['comment_counts'] / df_3['followers'] * 100\n",
    "\n",
    "df_3['total_engagement'] = df_3['likes_engagement'] + df_3['comments_engagement']"
   ]
  },
  {
   "cell_type": "markdown",
   "metadata": {},
   "source": [
    "## 4.3 Feature Captions"
   ]
  },
  {
   "cell_type": "code",
   "execution_count": 170,
   "metadata": {},
   "outputs": [],
   "source": [
    "#make lower case\n",
    "df_3['captions'] = df_3['captions'].str.lower()\n",
    "\n",
    "#delete whitespace\n",
    "df_3['captions'] = df_3['captions'].str.strip()"
   ]
  },
  {
   "cell_type": "code",
   "execution_count": 171,
   "metadata": {},
   "outputs": [],
   "source": [
    "#feature length of captions\n",
    "df_3['len_capt'] = df_3['captions'].apply(lambda x: len(x))\n",
    "\n",
    "#create feature length of captions without punctuation\n",
    "df_3['len_capt_wo_punct'] = df_3['captions'].str.replace(r'[^\\w\\s]', '', regex=True).apply(lambda x: len(x))\n",
    "\n",
    "#feature length of punctuation only\n",
    "df_3['len_capt_punct'] = df_3['captions'].str.replace(r'[\\w\\s]', '', regex=True).apply(lambda x: len(x))"
   ]
  },
  {
   "cell_type": "code",
   "execution_count": 175,
   "metadata": {},
   "outputs": [],
   "source": [
    "#feature number of words in each captions\n",
    "df_3['n_words'] = df_3['captions'].apply(lambda x: len(str(x).split(\" \")))\n",
    "\n",
    "#average char per words\n",
    "df_3['avg_char_words'] = df_3['n_words'] / df_3['len_capt']\n",
    "\n",
    "#number of numeric char in captions\n",
    "df_3['n_numeric'] = df_3['captions'].apply(lambda x: len([x for x in x.split() if x.isdigit()]))"
   ]
  },
  {
   "cell_type": "code",
   "execution_count": 176,
   "metadata": {},
   "outputs": [
    {
     "data": {
      "text/html": [
       "<div>\n",
       "<style scoped>\n",
       "    .dataframe tbody tr th:only-of-type {\n",
       "        vertical-align: middle;\n",
       "    }\n",
       "\n",
       "    .dataframe tbody tr th {\n",
       "        vertical-align: top;\n",
       "    }\n",
       "\n",
       "    .dataframe thead th {\n",
       "        text-align: right;\n",
       "    }\n",
       "</style>\n",
       "<table border=\"1\" class=\"dataframe\">\n",
       "  <thead>\n",
       "    <tr style=\"text-align: right;\">\n",
       "      <th></th>\n",
       "      <th>link</th>\n",
       "      <th>likes</th>\n",
       "      <th>comment_counts</th>\n",
       "      <th>dates</th>\n",
       "      <th>captions</th>\n",
       "      <th>type_posts</th>\n",
       "      <th>username</th>\n",
       "      <th>following</th>\n",
       "      <th>post</th>\n",
       "      <th>followers</th>\n",
       "      <th>year</th>\n",
       "      <th>month</th>\n",
       "      <th>day</th>\n",
       "      <th>hour</th>\n",
       "      <th>year_month</th>\n",
       "      <th>likes_engagement</th>\n",
       "      <th>comments_engagement</th>\n",
       "      <th>total_engagement</th>\n",
       "      <th>len_capt</th>\n",
       "      <th>len_capt_wo_punct</th>\n",
       "      <th>len_capt_punct</th>\n",
       "      <th>n_words</th>\n",
       "      <th>avg_char_words</th>\n",
       "      <th>n_numeric</th>\n",
       "    </tr>\n",
       "  </thead>\n",
       "  <tbody>\n",
       "    <tr>\n",
       "      <th>0</th>\n",
       "      <td>https://www.instagram.com/p/CCDUy0rhY4U/</td>\n",
       "      <td>43953</td>\n",
       "      <td>5</td>\n",
       "      <td>2020-06-30-15</td>\n",
       "      <td>from our honeymoon,summer 2019 !______________...</td>\n",
       "      <td>GraphVideo</td>\n",
       "      <td>princessyahrini</td>\n",
       "      <td>649</td>\n",
       "      <td>4769</td>\n",
       "      <td>33500000</td>\n",
       "      <td>2020</td>\n",
       "      <td>06</td>\n",
       "      <td>30</td>\n",
       "      <td>15</td>\n",
       "      <td>202006</td>\n",
       "      <td>0.131203</td>\n",
       "      <td>0.000015</td>\n",
       "      <td>0.131218</td>\n",
       "      <td>81</td>\n",
       "      <td>78</td>\n",
       "      <td>3</td>\n",
       "      <td>6</td>\n",
       "      <td>0.074074</td>\n",
       "      <td>1</td>\n",
       "    </tr>\n",
       "    <tr>\n",
       "      <th>1</th>\n",
       "      <td>https://www.instagram.com/p/CB4WqVRBAOP/</td>\n",
       "      <td>145632</td>\n",
       "      <td>0</td>\n",
       "      <td>2020-06-26-08</td>\n",
       "      <td>•selamat pagi !__________________ 𝓢𝓨𝓡_________...</td>\n",
       "      <td>GraphImage</td>\n",
       "      <td>princessyahrini</td>\n",
       "      <td>649</td>\n",
       "      <td>4769</td>\n",
       "      <td>33500000</td>\n",
       "      <td>2020</td>\n",
       "      <td>06</td>\n",
       "      <td>26</td>\n",
       "      <td>08</td>\n",
       "      <td>202006</td>\n",
       "      <td>0.434722</td>\n",
       "      <td>0.000000</td>\n",
       "      <td>0.434722</td>\n",
       "      <td>72</td>\n",
       "      <td>69</td>\n",
       "      <td>3</td>\n",
       "      <td>4</td>\n",
       "      <td>0.055556</td>\n",
       "      <td>0</td>\n",
       "    </tr>\n",
       "    <tr>\n",
       "      <th>2</th>\n",
       "      <td>https://www.instagram.com/p/CB0IFkKh0Py/</td>\n",
       "      <td>79662</td>\n",
       "      <td>65</td>\n",
       "      <td>2020-06-24-17</td>\n",
       "      <td>“ i have nothing “_________________ 𝓢𝓨𝓡_______...</td>\n",
       "      <td>GraphVideo</td>\n",
       "      <td>princessyahrini</td>\n",
       "      <td>649</td>\n",
       "      <td>4769</td>\n",
       "      <td>33500000</td>\n",
       "      <td>2020</td>\n",
       "      <td>06</td>\n",
       "      <td>24</td>\n",
       "      <td>17</td>\n",
       "      <td>202006</td>\n",
       "      <td>0.237797</td>\n",
       "      <td>0.000194</td>\n",
       "      <td>0.237991</td>\n",
       "      <td>71</td>\n",
       "      <td>68</td>\n",
       "      <td>3</td>\n",
       "      <td>6</td>\n",
       "      <td>0.084507</td>\n",
       "      <td>0</td>\n",
       "    </tr>\n",
       "    <tr>\n",
       "      <th>3</th>\n",
       "      <td>https://www.instagram.com/p/CBzudkKBc5v/</td>\n",
       "      <td>76461</td>\n",
       "      <td>0</td>\n",
       "      <td>2020-06-24-13</td>\n",
       "      <td>•a day well spent with my beautiful soul siste...</td>\n",
       "      <td>GraphImage</td>\n",
       "      <td>princessyahrini</td>\n",
       "      <td>649</td>\n",
       "      <td>4769</td>\n",
       "      <td>33500000</td>\n",
       "      <td>2020</td>\n",
       "      <td>06</td>\n",
       "      <td>24</td>\n",
       "      <td>13</td>\n",
       "      <td>202006</td>\n",
       "      <td>0.228242</td>\n",
       "      <td>0.000000</td>\n",
       "      <td>0.228242</td>\n",
       "      <td>230</td>\n",
       "      <td>219</td>\n",
       "      <td>11</td>\n",
       "      <td>23</td>\n",
       "      <td>0.100000</td>\n",
       "      <td>0</td>\n",
       "    </tr>\n",
       "    <tr>\n",
       "      <th>4</th>\n",
       "      <td>https://www.instagram.com/p/CBvH-ZaB5c5/</td>\n",
       "      <td>141927</td>\n",
       "      <td>0</td>\n",
       "      <td>2020-06-22-18</td>\n",
       "      <td>•alhamdulillah,amin allahuma amin ... amin ya ...</td>\n",
       "      <td>GraphVideo</td>\n",
       "      <td>princessyahrini</td>\n",
       "      <td>649</td>\n",
       "      <td>4769</td>\n",
       "      <td>33500000</td>\n",
       "      <td>2020</td>\n",
       "      <td>06</td>\n",
       "      <td>22</td>\n",
       "      <td>18</td>\n",
       "      <td>202006</td>\n",
       "      <td>0.423663</td>\n",
       "      <td>0.000000</td>\n",
       "      <td>0.423663</td>\n",
       "      <td>115</td>\n",
       "      <td>108</td>\n",
       "      <td>7</td>\n",
       "      <td>9</td>\n",
       "      <td>0.078261</td>\n",
       "      <td>0</td>\n",
       "    </tr>\n",
       "  </tbody>\n",
       "</table>\n",
       "</div>"
      ],
      "text/plain": [
       "                                       link   likes  comment_counts  \\\n",
       "0  https://www.instagram.com/p/CCDUy0rhY4U/   43953               5   \n",
       "1  https://www.instagram.com/p/CB4WqVRBAOP/  145632               0   \n",
       "2  https://www.instagram.com/p/CB0IFkKh0Py/   79662              65   \n",
       "3  https://www.instagram.com/p/CBzudkKBc5v/   76461               0   \n",
       "4  https://www.instagram.com/p/CBvH-ZaB5c5/  141927               0   \n",
       "\n",
       "           dates                                           captions  \\\n",
       "0  2020-06-30-15  from our honeymoon,summer 2019 !______________...   \n",
       "1  2020-06-26-08  •selamat pagi !__________________ 𝓢𝓨𝓡_________...   \n",
       "2  2020-06-24-17  “ i have nothing “_________________ 𝓢𝓨𝓡_______...   \n",
       "3  2020-06-24-13  •a day well spent with my beautiful soul siste...   \n",
       "4  2020-06-22-18  •alhamdulillah,amin allahuma amin ... amin ya ...   \n",
       "\n",
       "   type_posts         username  following  post  followers  year month day  \\\n",
       "0  GraphVideo  princessyahrini        649  4769   33500000  2020    06  30   \n",
       "1  GraphImage  princessyahrini        649  4769   33500000  2020    06  26   \n",
       "2  GraphVideo  princessyahrini        649  4769   33500000  2020    06  24   \n",
       "3  GraphImage  princessyahrini        649  4769   33500000  2020    06  24   \n",
       "4  GraphVideo  princessyahrini        649  4769   33500000  2020    06  22   \n",
       "\n",
       "  hour year_month  likes_engagement  comments_engagement  total_engagement  \\\n",
       "0   15     202006          0.131203             0.000015          0.131218   \n",
       "1   08     202006          0.434722             0.000000          0.434722   \n",
       "2   17     202006          0.237797             0.000194          0.237991   \n",
       "3   13     202006          0.228242             0.000000          0.228242   \n",
       "4   18     202006          0.423663             0.000000          0.423663   \n",
       "\n",
       "   len_capt  len_capt_wo_punct  len_capt_punct  n_words  avg_char_words  \\\n",
       "0        81                 78               3        6        0.074074   \n",
       "1        72                 69               3        4        0.055556   \n",
       "2        71                 68               3        6        0.084507   \n",
       "3       230                219              11       23        0.100000   \n",
       "4       115                108               7        9        0.078261   \n",
       "\n",
       "   n_numeric  \n",
       "0          1  \n",
       "1          0  \n",
       "2          0  \n",
       "3          0  \n",
       "4          0  "
      ]
     },
     "execution_count": 176,
     "metadata": {},
     "output_type": "execute_result"
    }
   ],
   "source": [
    "df_3.head()"
   ]
  },
  {
   "cell_type": "code",
   "execution_count": 177,
   "metadata": {},
   "outputs": [
    {
     "data": {
      "text/plain": [
       "(52675, 24)"
      ]
     },
     "execution_count": 177,
     "metadata": {},
     "output_type": "execute_result"
    }
   ],
   "source": [
    "#from our stage 1 preprocessing and feature engineering, we can create 14 new features.\n",
    "df_3.shape"
   ]
  },
  {
   "cell_type": "code",
   "execution_count": 178,
   "metadata": {},
   "outputs": [],
   "source": [
    "df_3.to_csv('data_preprocessing_1.csv', index=False)"
   ]
  }
 ],
 "metadata": {
  "kernelspec": {
   "display_name": "Python 3",
   "language": "python",
   "name": "python3"
  },
  "language_info": {
   "codemirror_mode": {
    "name": "ipython",
    "version": 3
   },
   "file_extension": ".py",
   "mimetype": "text/x-python",
   "name": "python",
   "nbconvert_exporter": "python",
   "pygments_lexer": "ipython3",
   "version": "3.6.10"
  }
 },
 "nbformat": 4,
 "nbformat_minor": 4
}
