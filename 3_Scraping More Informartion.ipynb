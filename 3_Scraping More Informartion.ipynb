{
 "cells": [
  {
   "cell_type": "markdown",
   "metadata": {},
   "source": [
    "# 1.0 Import Dependencies"
   ]
  },
  {
   "cell_type": "code",
   "execution_count": 1,
   "metadata": {},
   "outputs": [],
   "source": [
    "import os, platform, time, urllib.request, openpyxl, operator\n",
    "from selenium import webdriver\n",
    "from selenium.webdriver.common.keys import Keys\n",
    "from selenium.webdriver.common.action_chains import ActionChains\n",
    "from openpyxl import Workbook\n",
    "from urllib.request import urlopen\n",
    "import sys, requests, re, json\n",
    "from pandas.io.json import json_normalize\n",
    "from selenium.webdriver.common.keys import Keys\n",
    "from bs4 import BeautifulSoup\n",
    "\n",
    "import pandas as pd\n",
    "pd.set_option('display.max_columns', None)\n",
    "import numpy as np\n",
    "\n",
    "import datetime as dt\n",
    "\n",
    "import warnings\n",
    "warnings.filterwarnings('ignore')\n",
    "\n",
    "import utils\n",
    "from utils import get_information"
   ]
  },
  {
   "cell_type": "markdown",
   "metadata": {},
   "source": [
    "# 2.0 Load Data Influencer Names"
   ]
  },
  {
   "cell_type": "code",
   "execution_count": 3,
   "metadata": {},
   "outputs": [],
   "source": [
    "inf_names = pd.read_csv(r'influencer_post_links.csv')"
   ]
  },
  {
   "cell_type": "markdown",
   "metadata": {},
   "source": [
    "# 3.0 Get Information\n",
    "- 10000 Rows\n",
    "- It takes 3 Hours to run this code per batch\n",
    "- I create to take information by batching to efficient time"
   ]
  },
  {
   "cell_type": "markdown",
   "metadata": {},
   "source": [
    "## 3.1 Batch 1"
   ]
  },
  {
   "cell_type": "code",
   "execution_count": 33,
   "metadata": {},
   "outputs": [],
   "source": [
    "batch_1 = inf_names[inf_names.index <= 10000]"
   ]
  },
  {
   "cell_type": "code",
   "execution_count": 35,
   "metadata": {
    "scrolled": true
   },
   "outputs": [],
   "source": [
    "#iterate every post links and get the information\n",
    "for link in batch_1['link']:\n",
    "    likes, comment_counts, dates, captions, type_posts, links = get_information(link)"
   ]
  },
  {
   "cell_type": "code",
   "execution_count": 36,
   "metadata": {},
   "outputs": [],
   "source": [
    "data_batch_1 = pd.DataFrame(links).drop_duplicates().reset_index(drop=True).rename(columns={\n",
    "    0:'link'\n",
    "})"
   ]
  },
  {
   "cell_type": "code",
   "execution_count": 37,
   "metadata": {},
   "outputs": [],
   "source": [
    "data_batch_1['likes'] = likes\n",
    "data_batch_1['comment_counts'] = comment_counts\n",
    "data_batch_1['dates'] = dates\n",
    "data_batch_1['captions'] = captions\n",
    "data_batch_1['type_posts'] = type_posts"
   ]
  },
  {
   "cell_type": "code",
   "execution_count": 38,
   "metadata": {},
   "outputs": [],
   "source": [
    "data_batch_1_2 = pd.merge(data_batch_1, batch_1, on=['link'], how='left').reset_index(drop=True)"
   ]
  },
  {
   "cell_type": "code",
   "execution_count": 39,
   "metadata": {},
   "outputs": [],
   "source": [
    "# data_batch_1_2.to_csv('data_batch_1.csv', index=False)"
   ]
  },
  {
   "cell_type": "code",
   "execution_count": 40,
   "metadata": {},
   "outputs": [
    {
     "data": {
      "text/plain": [
       "(None, None, None, None, None, None)"
      ]
     },
     "execution_count": 40,
     "metadata": {},
     "output_type": "execute_result"
    }
   ],
   "source": [
    "#Clear the list so data in this batch and the next batch are not overlapped\n",
    "likes.clear(), comment_counts.clear(), dates.clear(), captions.clear(), type_posts.clear(), links.clear()"
   ]
  },
  {
   "cell_type": "markdown",
   "metadata": {},
   "source": [
    "## 3.2 Batch 2"
   ]
  },
  {
   "cell_type": "code",
   "execution_count": 56,
   "metadata": {},
   "outputs": [],
   "source": [
    "batch_2 = inf_names[(inf_names.index > 10000) & (inf_names.index <= 20000)].reset_index(drop=True)"
   ]
  },
  {
   "cell_type": "code",
   "execution_count": 58,
   "metadata": {
    "scrolled": true
   },
   "outputs": [],
   "source": [
    "#iterate every post links and get the information\n",
    "for link in batch_2['link']:\n",
    "    likes, comment_counts, dates, captions, type_posts, links = get_information(link)"
   ]
  },
  {
   "cell_type": "code",
   "execution_count": 59,
   "metadata": {},
   "outputs": [],
   "source": [
    "data_batch_2 = pd.DataFrame(links).drop_duplicates().reset_index(drop=True).rename(columns={\n",
    "    0:'link'\n",
    "})"
   ]
  },
  {
   "cell_type": "code",
   "execution_count": 60,
   "metadata": {},
   "outputs": [],
   "source": [
    "data_batch_2['likes'] = likes\n",
    "data_batch_2['comment_counts'] = comment_counts\n",
    "data_batch_2['dates'] = dates\n",
    "data_batch_2['captions'] = captions\n",
    "data_batch_2['type_posts'] = type_posts"
   ]
  },
  {
   "cell_type": "code",
   "execution_count": 61,
   "metadata": {},
   "outputs": [],
   "source": [
    "data_batch_2_2 = pd.merge(data_batch_2, batch_2, on=['link'], how='left').reset_index(drop=True)"
   ]
  },
  {
   "cell_type": "code",
   "execution_count": 62,
   "metadata": {},
   "outputs": [],
   "source": [
    "data_batch_2_3 = data_batch_2_2[data_batch_2_2['username'].notnull()].reset_index(drop=True)"
   ]
  },
  {
   "cell_type": "code",
   "execution_count": 63,
   "metadata": {},
   "outputs": [],
   "source": [
    "# data_batch_2_3.to_csv('data_batch_2.csv', index=False)"
   ]
  },
  {
   "cell_type": "code",
   "execution_count": 64,
   "metadata": {},
   "outputs": [
    {
     "data": {
      "text/plain": [
       "(None, None, None, None, None, None)"
      ]
     },
     "execution_count": 64,
     "metadata": {},
     "output_type": "execute_result"
    }
   ],
   "source": [
    "#Clear the list so data in this batch and the next batch are not overlapped\n",
    "likes.clear(), comment_counts.clear(), dates.clear(), captions.clear(), type_posts.clear(), links.clear()"
   ]
  },
  {
   "cell_type": "markdown",
   "metadata": {},
   "source": [
    "## 3.3 Batch 3"
   ]
  },
  {
   "cell_type": "code",
   "execution_count": 5,
   "metadata": {},
   "outputs": [],
   "source": [
    "batch_3 = inf_names[(inf_names.index > 20000) & (inf_names.index <= 30000)].reset_index(drop=True)"
   ]
  },
  {
   "cell_type": "code",
   "execution_count": 18,
   "metadata": {
    "scrolled": true
   },
   "outputs": [],
   "source": [
    "#iterate every post links and get the information\n",
    "for link in batch_3['link']:\n",
    "    likes, comment_counts, dates, captions, type_posts, links = get_information(link)"
   ]
  },
  {
   "cell_type": "code",
   "execution_count": 9,
   "metadata": {},
   "outputs": [],
   "source": [
    "data_batch_3 = pd.DataFrame(links).drop_duplicates().reset_index(drop=True).rename(columns={\n",
    "    0:'link'\n",
    "})"
   ]
  },
  {
   "cell_type": "code",
   "execution_count": 11,
   "metadata": {},
   "outputs": [],
   "source": [
    "data_batch_3['likes'] = likes\n",
    "data_batch_3['comment_counts'] = comment_counts\n",
    "data_batch_3['dates'] = dates\n",
    "data_batch_3['captions'] = captions\n",
    "data_batch_3['type_posts'] = type_posts"
   ]
  },
  {
   "cell_type": "code",
   "execution_count": 13,
   "metadata": {},
   "outputs": [],
   "source": [
    "data_batch_3_2 = pd.merge(data_batch_3, batch_3, on=['link'], how='left').reset_index(drop=True)"
   ]
  },
  {
   "cell_type": "code",
   "execution_count": 14,
   "metadata": {},
   "outputs": [],
   "source": [
    "data_batch_3_3 = data_batch_3_2[data_batch_3_2['username'].notnull()].reset_index(drop=True)"
   ]
  },
  {
   "cell_type": "code",
   "execution_count": 19,
   "metadata": {},
   "outputs": [],
   "source": [
    "# data_batch_3_3.to_csv('data_batch_3.csv', index=False)"
   ]
  },
  {
   "cell_type": "code",
   "execution_count": 5,
   "metadata": {},
   "outputs": [],
   "source": [
    "#Clear the list so data in this batch and the next batch are not overlapped\n",
    "likes.clear(), comment_counts.clear(), dates.clear(), captions.clear(), type_posts.clear(), links.clear()"
   ]
  },
  {
   "cell_type": "markdown",
   "metadata": {},
   "source": [
    "## 3.4 Batch 4"
   ]
  },
  {
   "cell_type": "code",
   "execution_count": 8,
   "metadata": {},
   "outputs": [],
   "source": [
    "batch_4 = inf_names[(inf_names.index > 30000) & (inf_names.index <= 40000)].reset_index(drop=True)"
   ]
  },
  {
   "cell_type": "code",
   "execution_count": 4,
   "metadata": {
    "scrolled": true
   },
   "outputs": [],
   "source": [
    "#iterate every post links and get the information\n",
    "for link in batch_4['link']:\n",
    "    likes, comment_counts, dates, captions, type_posts, links = get_information(link)"
   ]
  },
  {
   "cell_type": "code",
   "execution_count": 10,
   "metadata": {},
   "outputs": [],
   "source": [
    "data_batch_4 = pd.DataFrame(links).drop_duplicates().reset_index(drop=True).rename(columns={\n",
    "    0:'link'\n",
    "})"
   ]
  },
  {
   "cell_type": "code",
   "execution_count": 11,
   "metadata": {},
   "outputs": [],
   "source": [
    "data_batch_4['likes'] = likes\n",
    "data_batch_4['comment_counts'] = comment_counts\n",
    "data_batch_4['dates'] = dates\n",
    "data_batch_4['captions'] = captions\n",
    "data_batch_4['type_posts'] = type_posts"
   ]
  },
  {
   "cell_type": "code",
   "execution_count": 12,
   "metadata": {},
   "outputs": [],
   "source": [
    "data_batch_4_2 = pd.merge(data_batch_4, batch_4, on=['link'], how='left').reset_index(drop=True)"
   ]
  },
  {
   "cell_type": "code",
   "execution_count": 13,
   "metadata": {},
   "outputs": [],
   "source": [
    "data_batch_4_3 = data_batch_4_2[data_batch_4_2['username'].notnull()].reset_index(drop=True)"
   ]
  },
  {
   "cell_type": "code",
   "execution_count": 17,
   "metadata": {},
   "outputs": [],
   "source": [
    "# data_batch_4_3.to_csv('data_batch_4.csv', index=False)"
   ]
  },
  {
   "cell_type": "code",
   "execution_count": null,
   "metadata": {},
   "outputs": [],
   "source": [
    "#Clear the list so data in this batch and the next batch are not overlapped\n",
    "likes.clear(), comment_counts.clear(), dates.clear(), captions.clear(), type_posts.clear(), links.clear()"
   ]
  },
  {
   "cell_type": "markdown",
   "metadata": {},
   "source": [
    "## 3.5 Batch 5"
   ]
  },
  {
   "cell_type": "code",
   "execution_count": 5,
   "metadata": {},
   "outputs": [],
   "source": [
    "batch_5 = inf_names[(inf_names.index > 40000) & (inf_names.index <= 50000)].reset_index(drop=True)"
   ]
  },
  {
   "cell_type": "code",
   "execution_count": 4,
   "metadata": {},
   "outputs": [],
   "source": [
    "#iterate every post links and get the information\n",
    "for link in batch_5['link']:\n",
    "    likes, comment_counts, dates, captions, type_posts, links = get_information(link)"
   ]
  },
  {
   "cell_type": "code",
   "execution_count": 12,
   "metadata": {},
   "outputs": [],
   "source": [
    "data_batch_5 = pd.DataFrame(links).drop_duplicates().reset_index(drop=True).rename(columns={\n",
    "    0:'link'\n",
    "})"
   ]
  },
  {
   "cell_type": "code",
   "execution_count": 13,
   "metadata": {},
   "outputs": [],
   "source": [
    "data_batch_5['likes'] = likes\n",
    "data_batch_5['comment_counts'] = comment_counts\n",
    "data_batch_5['dates'] = dates\n",
    "data_batch_5['captions'] = captions\n",
    "data_batch_5['type_posts'] = type_posts"
   ]
  },
  {
   "cell_type": "code",
   "execution_count": 14,
   "metadata": {},
   "outputs": [],
   "source": [
    "data_batch_5_2 = pd.merge(data_batch_5, batch_5, on=['link'], how='left').reset_index(drop=True)"
   ]
  },
  {
   "cell_type": "code",
   "execution_count": 15,
   "metadata": {},
   "outputs": [],
   "source": [
    "data_batch_5_3 = data_batch_5_2[data_batch_5_2['username'].notnull()].reset_index(drop=True)"
   ]
  },
  {
   "cell_type": "code",
   "execution_count": 5,
   "metadata": {},
   "outputs": [],
   "source": [
    "# data_batch_5_3.to_csv('data_batch_5.csv', index=False)"
   ]
  },
  {
   "cell_type": "code",
   "execution_count": 7,
   "metadata": {},
   "outputs": [],
   "source": [
    "#Clear the list so data in this batch and the next batch are not overlapped\n",
    "likes.clear(), comment_counts.clear(), dates.clear(), captions.clear(), type_posts.clear(), links.clear()"
   ]
  },
  {
   "cell_type": "markdown",
   "metadata": {},
   "source": [
    "## 3.6 Batch 6"
   ]
  },
  {
   "cell_type": "code",
   "execution_count": 8,
   "metadata": {},
   "outputs": [],
   "source": [
    "batch_6 = inf_names[(inf_names.index > 50000)].reset_index(drop=True)"
   ]
  },
  {
   "cell_type": "code",
   "execution_count": 9,
   "metadata": {},
   "outputs": [
    {
     "data": {
      "text/html": [
       "<div>\n",
       "<style scoped>\n",
       "    .dataframe tbody tr th:only-of-type {\n",
       "        vertical-align: middle;\n",
       "    }\n",
       "\n",
       "    .dataframe tbody tr th {\n",
       "        vertical-align: top;\n",
       "    }\n",
       "\n",
       "    .dataframe thead th {\n",
       "        text-align: right;\n",
       "    }\n",
       "</style>\n",
       "<table border=\"1\" class=\"dataframe\">\n",
       "  <thead>\n",
       "    <tr style=\"text-align: right;\">\n",
       "      <th></th>\n",
       "      <th>link</th>\n",
       "      <th>username</th>\n",
       "    </tr>\n",
       "  </thead>\n",
       "  <tbody>\n",
       "    <tr>\n",
       "      <th>0</th>\n",
       "      <td>https://www.instagram.com/p/B7feCCDlrNz/</td>\n",
       "      <td>andiarsyil</td>\n",
       "    </tr>\n",
       "    <tr>\n",
       "      <th>1</th>\n",
       "      <td>https://www.instagram.com/p/B7X4gGLlvKw/</td>\n",
       "      <td>andiarsyil</td>\n",
       "    </tr>\n",
       "    <tr>\n",
       "      <th>2</th>\n",
       "      <td>https://www.instagram.com/p/B7VMc7jlI9S/</td>\n",
       "      <td>andiarsyil</td>\n",
       "    </tr>\n",
       "    <tr>\n",
       "      <th>3</th>\n",
       "      <td>https://www.instagram.com/p/B7Qmb4nlA-F/</td>\n",
       "      <td>andiarsyil</td>\n",
       "    </tr>\n",
       "    <tr>\n",
       "      <th>4</th>\n",
       "      <td>https://www.instagram.com/p/B7IOfdaF9pe/</td>\n",
       "      <td>andiarsyil</td>\n",
       "    </tr>\n",
       "    <tr>\n",
       "      <th>...</th>\n",
       "      <td>...</td>\n",
       "      <td>...</td>\n",
       "    </tr>\n",
       "    <tr>\n",
       "      <th>18213</th>\n",
       "      <td>https://www.instagram.com/p/B4EAT6plYBa/</td>\n",
       "      <td>riamiranda</td>\n",
       "    </tr>\n",
       "    <tr>\n",
       "      <th>18214</th>\n",
       "      <td>https://www.instagram.com/p/B4DsRzAl2Qh/</td>\n",
       "      <td>riamiranda</td>\n",
       "    </tr>\n",
       "    <tr>\n",
       "      <th>18215</th>\n",
       "      <td>https://www.instagram.com/p/B4C5qCbFeVE/</td>\n",
       "      <td>riamiranda</td>\n",
       "    </tr>\n",
       "    <tr>\n",
       "      <th>18216</th>\n",
       "      <td>https://www.instagram.com/p/B3_Cfg7FC8h/</td>\n",
       "      <td>riamiranda</td>\n",
       "    </tr>\n",
       "    <tr>\n",
       "      <th>18217</th>\n",
       "      <td>https://www.instagram.com/p/B3-r6JNFQoG/</td>\n",
       "      <td>riamiranda</td>\n",
       "    </tr>\n",
       "  </tbody>\n",
       "</table>\n",
       "<p>18218 rows × 2 columns</p>\n",
       "</div>"
      ],
      "text/plain": [
       "                                           link    username\n",
       "0      https://www.instagram.com/p/B7feCCDlrNz/  andiarsyil\n",
       "1      https://www.instagram.com/p/B7X4gGLlvKw/  andiarsyil\n",
       "2      https://www.instagram.com/p/B7VMc7jlI9S/  andiarsyil\n",
       "3      https://www.instagram.com/p/B7Qmb4nlA-F/  andiarsyil\n",
       "4      https://www.instagram.com/p/B7IOfdaF9pe/  andiarsyil\n",
       "...                                         ...         ...\n",
       "18213  https://www.instagram.com/p/B4EAT6plYBa/  riamiranda\n",
       "18214  https://www.instagram.com/p/B4DsRzAl2Qh/  riamiranda\n",
       "18215  https://www.instagram.com/p/B4C5qCbFeVE/  riamiranda\n",
       "18216  https://www.instagram.com/p/B3_Cfg7FC8h/  riamiranda\n",
       "18217  https://www.instagram.com/p/B3-r6JNFQoG/  riamiranda\n",
       "\n",
       "[18218 rows x 2 columns]"
      ]
     },
     "execution_count": 9,
     "metadata": {},
     "output_type": "execute_result"
    }
   ],
   "source": [
    "batch_6"
   ]
  },
  {
   "cell_type": "code",
   "execution_count": 10,
   "metadata": {
    "scrolled": true
   },
   "outputs": [
    {
     "name": "stdout",
     "output_type": "stream",
     "text": [
      "number of link error 1 at iteration 23\n",
      "number of link error 2 at iteration 109\n",
      "number of link error 3 at iteration 154\n",
      "number of link error 4 at iteration 192\n",
      "number of link error 5 at iteration 194\n",
      "number of link error 6 at iteration 289\n",
      "number of link error 7 at iteration 318\n",
      "number of link error 8 at iteration 355\n",
      "number of link error 9 at iteration 510\n",
      "number of link error 10 at iteration 605\n",
      "number of link error 11 at iteration 622\n",
      "number of link error 12 at iteration 630\n",
      "number of link error 13 at iteration 635\n",
      "number of link error 14 at iteration 643\n",
      "number of link error 15 at iteration 650\n",
      "number of link error 16 at iteration 656\n",
      "number of link error 17 at iteration 657\n",
      "number of link error 18 at iteration 658\n",
      "number of link error 19 at iteration 659\n",
      "number of link error 20 at iteration 662\n",
      "number of link error 21 at iteration 672\n",
      "number of link error 22 at iteration 1004\n",
      "number of link error 23 at iteration 1217\n",
      "number of link error 24 at iteration 1218\n",
      "number of link error 25 at iteration 1220\n",
      "number of link error 26 at iteration 1228\n",
      "number of link error 27 at iteration 1237\n",
      "number of link error 28 at iteration 1246\n",
      "number of link error 29 at iteration 1284\n",
      "number of link error 30 at iteration 1290\n",
      "number of link error 31 at iteration 1301\n",
      "number of link error 32 at iteration 1526\n",
      "number of link error 33 at iteration 1531\n",
      "number of link error 34 at iteration 1546\n",
      "number of link error 35 at iteration 1554\n",
      "number of link error 36 at iteration 1559\n",
      "number of link error 37 at iteration 1562\n",
      "number of link error 38 at iteration 1578\n",
      "number of link error 39 at iteration 1580\n",
      "number of link error 40 at iteration 1583\n",
      "number of link error 41 at iteration 1584\n",
      "number of link error 42 at iteration 1585\n",
      "number of link error 43 at iteration 1586\n",
      "number of link error 44 at iteration 1587\n",
      "number of link error 45 at iteration 1588\n",
      "number of link error 46 at iteration 1589\n",
      "number of link error 47 at iteration 1591\n",
      "number of link error 48 at iteration 1592\n",
      "number of link error 49 at iteration 1597\n",
      "number of link error 50 at iteration 1598\n",
      "number of link error 51 at iteration 1600\n",
      "number of link error 52 at iteration 1602\n",
      "number of link error 53 at iteration 1604\n",
      "number of link error 54 at iteration 1606\n",
      "number of link error 55 at iteration 1607\n",
      "number of link error 56 at iteration 1609\n",
      "number of link error 57 at iteration 1611\n",
      "number of link error 58 at iteration 1612\n",
      "number of link error 59 at iteration 1639\n",
      "number of link error 60 at iteration 1673\n",
      "number of link error 61 at iteration 1759\n",
      "number of link error 62 at iteration 1778\n",
      "number of link error 63 at iteration 2322\n",
      "number of link error 64 at iteration 2471\n",
      "number of link error 65 at iteration 2751\n",
      "number of link error 66 at iteration 2816\n",
      "number of link error 67 at iteration 3027\n",
      "number of link error 68 at iteration 3030\n",
      "number of link error 69 at iteration 3031\n",
      "number of link error 70 at iteration 3033\n",
      "number of link error 71 at iteration 3036\n",
      "number of link error 72 at iteration 3144\n",
      "number of link error 73 at iteration 3255\n",
      "number of link error 74 at iteration 3514\n",
      "number of link error 75 at iteration 3556\n",
      "number of link error 76 at iteration 3558\n",
      "number of link error 77 at iteration 3628\n",
      "number of link error 78 at iteration 3638\n",
      "number of link error 79 at iteration 3790\n",
      "number of link error 80 at iteration 3791\n",
      "number of link error 81 at iteration 3879\n",
      "number of link error 82 at iteration 3909\n",
      "number of link error 83 at iteration 4166\n",
      "number of link error 84 at iteration 4198\n",
      "number of link error 85 at iteration 4220\n",
      "number of link error 86 at iteration 4241\n",
      "number of link error 87 at iteration 4556\n",
      "number of link error 88 at iteration 4560\n",
      "number of link error 89 at iteration 4563\n",
      "number of link error 90 at iteration 4579\n",
      "number of link error 91 at iteration 4580\n",
      "number of link error 92 at iteration 4585\n",
      "number of link error 93 at iteration 4586\n",
      "number of link error 94 at iteration 4595\n",
      "number of link error 95 at iteration 4623\n",
      "number of link error 96 at iteration 4694\n",
      "number of link error 97 at iteration 4792\n",
      "number of link error 98 at iteration 4848\n",
      "number of link error 99 at iteration 4851\n",
      "number of link error 100 at iteration 4854\n",
      "number of link error 101 at iteration 4855\n",
      "number of link error 102 at iteration 4861\n",
      "number of link error 103 at iteration 4865\n",
      "number of link error 104 at iteration 4873\n",
      "number of link error 105 at iteration 4874\n",
      "number of link error 106 at iteration 4878\n",
      "number of link error 107 at iteration 4886\n",
      "number of link error 108 at iteration 4889\n",
      "number of link error 109 at iteration 4904\n",
      "number of link error 110 at iteration 4907\n",
      "number of link error 111 at iteration 4908\n",
      "number of link error 112 at iteration 4911\n",
      "number of link error 113 at iteration 4914\n",
      "number of link error 114 at iteration 4915\n",
      "number of link error 115 at iteration 4917\n",
      "number of link error 116 at iteration 4919\n",
      "number of link error 117 at iteration 4920\n",
      "number of link error 118 at iteration 4921\n",
      "number of link error 119 at iteration 4926\n",
      "number of link error 120 at iteration 4927\n",
      "number of link error 121 at iteration 4928\n",
      "number of link error 122 at iteration 4931\n",
      "number of link error 123 at iteration 4934\n",
      "number of link error 124 at iteration 4937\n",
      "number of link error 125 at iteration 4945\n",
      "number of link error 126 at iteration 4946\n",
      "number of link error 127 at iteration 4952\n",
      "number of link error 128 at iteration 4964\n",
      "number of link error 129 at iteration 4966\n",
      "number of link error 130 at iteration 4995\n",
      "number of link error 131 at iteration 5012\n",
      "number of link error 132 at iteration 5022\n",
      "number of link error 133 at iteration 5023\n",
      "number of link error 134 at iteration 5029\n",
      "number of link error 135 at iteration 5039\n",
      "number of link error 136 at iteration 5677\n",
      "number of link error 137 at iteration 6013\n",
      "number of link error 138 at iteration 6442\n",
      "number of link error 139 at iteration 6552\n",
      "number of link error 140 at iteration 6571\n",
      "number of link error 141 at iteration 6573\n",
      "number of link error 142 at iteration 6595\n",
      "number of link error 143 at iteration 6761\n",
      "number of link error 144 at iteration 6764\n",
      "number of link error 145 at iteration 6773\n",
      "number of link error 146 at iteration 6979\n",
      "number of link error 147 at iteration 6980\n",
      "number of link error 148 at iteration 7116\n",
      "number of link error 149 at iteration 7142\n",
      "number of link error 150 at iteration 7297\n",
      "number of link error 151 at iteration 7299\n",
      "number of link error 152 at iteration 7310\n",
      "number of link error 153 at iteration 7321\n",
      "number of link error 154 at iteration 7413\n",
      "number of link error 155 at iteration 7416\n",
      "number of link error 156 at iteration 7575\n",
      "number of link error 157 at iteration 7576\n",
      "number of link error 158 at iteration 7577\n",
      "number of link error 159 at iteration 7580\n",
      "number of link error 160 at iteration 7581\n",
      "number of link error 161 at iteration 7582\n",
      "number of link error 162 at iteration 7583\n",
      "number of link error 163 at iteration 7584\n",
      "number of link error 164 at iteration 7585\n",
      "number of link error 165 at iteration 7586\n",
      "number of link error 166 at iteration 7587\n",
      "number of link error 167 at iteration 7588\n",
      "number of link error 168 at iteration 7589\n",
      "number of link error 169 at iteration 7590\n",
      "number of link error 170 at iteration 7591\n",
      "number of link error 171 at iteration 7592\n",
      "number of link error 172 at iteration 7593\n",
      "number of link error 173 at iteration 7598\n",
      "number of link error 174 at iteration 7624\n",
      "number of link error 175 at iteration 7639\n",
      "number of link error 176 at iteration 7649\n",
      "number of link error 177 at iteration 7672\n",
      "number of link error 178 at iteration 7798\n",
      "number of link error 179 at iteration 7803\n",
      "number of link error 180 at iteration 7804\n",
      "number of link error 181 at iteration 7808\n",
      "number of link error 182 at iteration 7811\n",
      "number of link error 183 at iteration 7819\n",
      "number of link error 184 at iteration 8661\n",
      "number of link error 185 at iteration 8662\n",
      "number of link error 186 at iteration 8678\n",
      "number of link error 187 at iteration 8706\n",
      "number of link error 188 at iteration 8739\n",
      "number of link error 189 at iteration 8742\n",
      "number of link error 190 at iteration 8745\n",
      "number of link error 191 at iteration 8748\n",
      "number of link error 192 at iteration 8751\n",
      "number of link error 193 at iteration 8753\n",
      "number of link error 194 at iteration 8754\n"
     ]
    },
    {
     "name": "stdout",
     "output_type": "stream",
     "text": [
      "number of link error 195 at iteration 8755\n",
      "number of link error 196 at iteration 8756\n",
      "number of link error 197 at iteration 8759\n",
      "number of link error 198 at iteration 8761\n",
      "number of link error 199 at iteration 8762\n",
      "number of link error 200 at iteration 8765\n",
      "number of link error 201 at iteration 8772\n",
      "number of link error 202 at iteration 8784\n",
      "number of link error 203 at iteration 9006\n",
      "number of link error 204 at iteration 9041\n",
      "number of link error 205 at iteration 9136\n",
      "number of link error 206 at iteration 9154\n",
      "number of link error 207 at iteration 9433\n",
      "number of link error 208 at iteration 9521\n",
      "number of link error 209 at iteration 9523\n",
      "number of link error 210 at iteration 9577\n",
      "number of link error 211 at iteration 9580\n",
      "number of link error 212 at iteration 9582\n",
      "number of link error 213 at iteration 9589\n",
      "number of link error 214 at iteration 9592\n",
      "number of link error 215 at iteration 9595\n",
      "number of link error 216 at iteration 9599\n",
      "number of link error 217 at iteration 9641\n",
      "number of link error 218 at iteration 9661\n",
      "number of link error 219 at iteration 9662\n",
      "number of link error 220 at iteration 9663\n",
      "number of link error 221 at iteration 9940\n",
      "number of link error 222 at iteration 10176\n",
      "number of link error 223 at iteration 10721\n",
      "number of link error 224 at iteration 10763\n",
      "number of link error 225 at iteration 10802\n",
      "number of link error 226 at iteration 10876\n",
      "number of link error 227 at iteration 10881\n",
      "number of link error 228 at iteration 11027\n",
      "number of link error 229 at iteration 11057\n",
      "number of link error 230 at iteration 11064\n",
      "number of link error 231 at iteration 11121\n",
      "number of link error 232 at iteration 11141\n",
      "number of link error 233 at iteration 11164\n",
      "number of link error 234 at iteration 11176\n",
      "number of link error 235 at iteration 11513\n",
      "number of link error 236 at iteration 11844\n",
      "number of link error 237 at iteration 11847\n",
      "number of link error 238 at iteration 11852\n",
      "number of link error 239 at iteration 12209\n",
      "number of link error 240 at iteration 12210\n",
      "number of link error 241 at iteration 12211\n",
      "number of link error 242 at iteration 12212\n",
      "number of link error 243 at iteration 12213\n",
      "number of link error 244 at iteration 12214\n",
      "number of link error 245 at iteration 12215\n",
      "number of link error 246 at iteration 12216\n",
      "number of link error 247 at iteration 12217\n",
      "number of link error 248 at iteration 12495\n",
      "number of link error 249 at iteration 12772\n",
      "number of link error 250 at iteration 12927\n",
      "number of link error 251 at iteration 12929\n",
      "number of link error 252 at iteration 12931\n",
      "number of link error 253 at iteration 13049\n",
      "number of link error 254 at iteration 13052\n",
      "number of link error 255 at iteration 13081\n",
      "number of link error 256 at iteration 13094\n",
      "number of link error 257 at iteration 13105\n",
      "number of link error 258 at iteration 13108\n",
      "number of link error 259 at iteration 13110\n",
      "number of link error 260 at iteration 13144\n",
      "number of link error 261 at iteration 13281\n",
      "number of link error 262 at iteration 13372\n",
      "number of link error 263 at iteration 13380\n",
      "number of link error 264 at iteration 13381\n",
      "number of link error 265 at iteration 13470\n",
      "number of link error 266 at iteration 13690\n",
      "number of link error 267 at iteration 13691\n",
      "number of link error 268 at iteration 13955\n",
      "number of link error 269 at iteration 13959\n",
      "number of link error 270 at iteration 13973\n",
      "number of link error 271 at iteration 14264\n",
      "number of link error 272 at iteration 14371\n",
      "number of link error 273 at iteration 14605\n",
      "number of link error 274 at iteration 14609\n",
      "number of link error 275 at iteration 14614\n",
      "number of link error 276 at iteration 14615\n",
      "number of link error 277 at iteration 14618\n",
      "number of link error 278 at iteration 15233\n",
      "number of link error 279 at iteration 15234\n",
      "number of link error 280 at iteration 15332\n",
      "number of link error 281 at iteration 15489\n",
      "number of link error 282 at iteration 15493\n",
      "number of link error 283 at iteration 15618\n",
      "number of link error 284 at iteration 15620\n",
      "number of link error 285 at iteration 15622\n",
      "number of link error 286 at iteration 15626\n",
      "number of link error 287 at iteration 15628\n",
      "number of link error 288 at iteration 15635\n",
      "number of link error 289 at iteration 15636\n",
      "number of link error 290 at iteration 15638\n",
      "number of link error 291 at iteration 15639\n",
      "number of link error 292 at iteration 15640\n",
      "number of link error 293 at iteration 15641\n",
      "number of link error 294 at iteration 15642\n",
      "number of link error 295 at iteration 15644\n",
      "number of link error 296 at iteration 15646\n",
      "number of link error 297 at iteration 15648\n",
      "number of link error 298 at iteration 15650\n",
      "number of link error 299 at iteration 15652\n",
      "number of link error 300 at iteration 15654\n",
      "number of link error 301 at iteration 15656\n",
      "number of link error 302 at iteration 15658\n",
      "number of link error 303 at iteration 15660\n",
      "number of link error 304 at iteration 15662\n",
      "number of link error 305 at iteration 15664\n",
      "number of link error 306 at iteration 15666\n",
      "number of link error 307 at iteration 15667\n",
      "number of link error 308 at iteration 15668\n",
      "number of link error 309 at iteration 15670\n",
      "number of link error 310 at iteration 15672\n",
      "number of link error 311 at iteration 15676\n",
      "number of link error 312 at iteration 15678\n",
      "number of link error 313 at iteration 15680\n",
      "number of link error 314 at iteration 15681\n",
      "number of link error 315 at iteration 15682\n",
      "number of link error 316 at iteration 15684\n",
      "number of link error 317 at iteration 15686\n",
      "number of link error 318 at iteration 15688\n",
      "number of link error 319 at iteration 15690\n",
      "number of link error 320 at iteration 15692\n",
      "number of link error 321 at iteration 15693\n",
      "number of link error 322 at iteration 15694\n",
      "number of link error 323 at iteration 15695\n",
      "number of link error 324 at iteration 15696\n",
      "number of link error 325 at iteration 15698\n",
      "number of link error 326 at iteration 15699\n",
      "number of link error 327 at iteration 15702\n",
      "number of link error 328 at iteration 15704\n",
      "number of link error 329 at iteration 15707\n",
      "number of link error 330 at iteration 15709\n",
      "number of link error 331 at iteration 15714\n",
      "number of link error 332 at iteration 15716\n",
      "number of link error 333 at iteration 15718\n",
      "number of link error 334 at iteration 15720\n",
      "number of link error 335 at iteration 15722\n",
      "number of link error 336 at iteration 15724\n",
      "number of link error 337 at iteration 15788\n",
      "number of link error 338 at iteration 16162\n",
      "number of link error 339 at iteration 16164\n",
      "number of link error 340 at iteration 16172\n",
      "number of link error 341 at iteration 16174\n",
      "number of link error 342 at iteration 16186\n",
      "number of link error 343 at iteration 16188\n",
      "number of link error 344 at iteration 16197\n",
      "number of link error 345 at iteration 16199\n",
      "number of link error 346 at iteration 16208\n",
      "number of link error 347 at iteration 16209\n",
      "number of link error 348 at iteration 16210\n",
      "number of link error 349 at iteration 16212\n",
      "number of link error 350 at iteration 16223\n",
      "number of link error 351 at iteration 17006\n",
      "number of link error 352 at iteration 17008\n",
      "number of link error 353 at iteration 17012\n",
      "number of link error 354 at iteration 17016\n",
      "number of link error 355 at iteration 17017\n",
      "number of link error 356 at iteration 17018\n",
      "number of link error 357 at iteration 17019\n",
      "number of link error 358 at iteration 17027\n",
      "number of link error 359 at iteration 17028\n",
      "number of link error 360 at iteration 17040\n",
      "number of link error 361 at iteration 17047\n",
      "number of link error 362 at iteration 17099\n",
      "number of link error 363 at iteration 17100\n",
      "number of link error 364 at iteration 17101\n",
      "number of link error 365 at iteration 17102\n",
      "number of link error 366 at iteration 17103\n",
      "number of link error 367 at iteration 17104\n",
      "number of link error 368 at iteration 17105\n",
      "number of link error 369 at iteration 17106\n",
      "number of link error 370 at iteration 17107\n",
      "number of link error 371 at iteration 17108\n",
      "number of link error 372 at iteration 17109\n",
      "number of link error 373 at iteration 17110\n",
      "number of link error 374 at iteration 17111\n",
      "number of link error 375 at iteration 17112\n",
      "number of link error 376 at iteration 17113\n",
      "number of link error 377 at iteration 17602\n",
      "number of link error 378 at iteration 17604\n",
      "number of link error 379 at iteration 17641\n",
      "number of link error 380 at iteration 17653\n",
      "number of link error 381 at iteration 17655\n"
     ]
    },
    {
     "name": "stdout",
     "output_type": "stream",
     "text": [
      "number of link error 382 at iteration 17657\n",
      "number of link error 383 at iteration 17658\n",
      "number of link error 384 at iteration 17661\n",
      "number of link error 385 at iteration 17662\n",
      "number of link error 386 at iteration 17664\n",
      "number of link error 387 at iteration 17668\n",
      "number of link error 388 at iteration 17670\n",
      "number of link error 389 at iteration 17671\n",
      "number of link error 390 at iteration 17672\n",
      "number of link error 391 at iteration 17674\n",
      "number of link error 392 at iteration 17678\n",
      "number of link error 393 at iteration 17921\n",
      "number of link error 394 at iteration 17935\n"
     ]
    }
   ],
   "source": [
    "#iterate every post links and get the information\n",
    "for link in batch_6['link']:\n",
    "    likes, comment_counts, dates, captions, type_posts, links = get_information(link)"
   ]
  },
  {
   "cell_type": "code",
   "execution_count": 11,
   "metadata": {},
   "outputs": [],
   "source": [
    "data_batch_6 = pd.DataFrame(links).drop_duplicates().reset_index(drop=True).rename(columns={\n",
    "    0:'link'\n",
    "})"
   ]
  },
  {
   "cell_type": "code",
   "execution_count": 12,
   "metadata": {},
   "outputs": [],
   "source": [
    "data_batch_6['likes'] = likes\n",
    "data_batch_6['comment_counts'] = comment_counts\n",
    "data_batch_6['dates'] = dates\n",
    "data_batch_6['captions'] = captions\n",
    "data_batch_6['type_posts'] = type_posts"
   ]
  },
  {
   "cell_type": "code",
   "execution_count": 13,
   "metadata": {},
   "outputs": [],
   "source": [
    "data_batch_6_2 = pd.merge(data_batch_6, batch_6, on=['link'], how='left').reset_index(drop=True)"
   ]
  },
  {
   "cell_type": "code",
   "execution_count": 14,
   "metadata": {},
   "outputs": [],
   "source": [
    "data_batch_6_3 = data_batch_6_2[data_batch_6_2['username'].notnull()].reset_index(drop=True)"
   ]
  },
  {
   "cell_type": "code",
   "execution_count": 16,
   "metadata": {},
   "outputs": [],
   "source": [
    "data_batch_6_3.to_csv('data_batch_6.csv', index=False)"
   ]
  },
  {
   "cell_type": "code",
   "execution_count": 7,
   "metadata": {},
   "outputs": [],
   "source": [
    "#Clear the list so data in this batch and the next batch are not overlapped\n",
    "likes.clear(), comment_counts.clear(), dates.clear(), captions.clear(), type_posts.clear(), links.clear()"
   ]
  }
 ],
 "metadata": {
  "kernelspec": {
   "display_name": "Python 3",
   "language": "python",
   "name": "python3"
  },
  "language_info": {
   "codemirror_mode": {
    "name": "ipython",
    "version": 3
   },
   "file_extension": ".py",
   "mimetype": "text/x-python",
   "name": "python",
   "nbconvert_exporter": "python",
   "pygments_lexer": "ipython3",
   "version": "3.6.10"
  }
 },
 "nbformat": 4,
 "nbformat_minor": 4
}
