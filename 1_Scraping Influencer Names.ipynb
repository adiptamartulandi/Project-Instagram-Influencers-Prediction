{
 "cells": [
  {
   "cell_type": "markdown",
   "metadata": {},
   "source": [
    "# 1.0 Import Dependencies"
   ]
  },
  {
   "cell_type": "code",
   "execution_count": 1,
   "metadata": {},
   "outputs": [],
   "source": [
    "import os, platform, time, urllib.request, openpyxl, operator\n",
    "from selenium import webdriver\n",
    "from selenium.webdriver.common.keys import Keys\n",
    "from selenium.webdriver.common.action_chains import ActionChains\n",
    "from openpyxl import Workbook\n",
    "import sys, requests, re, json\n",
    "from selenium.webdriver.common.keys import Keys\n",
    "from bs4 import BeautifulSoup\n",
    "\n",
    "import pandas as pd\n",
    "import numpy as np\n",
    "\n",
    "import warnings\n",
    "warnings.filterwarnings('ignore')\n",
    "\n",
    "import utils\n",
    "from utils import scrape_username, scrape_general_info"
   ]
  },
  {
   "cell_type": "markdown",
   "metadata": {},
   "source": [
    "# 2.0 Scrape Username from Star n Gage Website"
   ]
  },
  {
   "cell_type": "code",
   "execution_count": 13,
   "metadata": {},
   "outputs": [
    {
     "name": "stdout",
     "output_type": "stream",
     "text": [
      "response <Response [200]>\n",
      "response <Response [200]>\n",
      "response <Response [200]>\n",
      "response <Response [200]>\n",
      "response <Response [200]>\n",
      "response <Response [200]>\n",
      "response <Response [200]>\n",
      "response <Response [200]>\n",
      "response <Response [200]>\n",
      "response <Response [200]>\n"
     ]
    }
   ],
   "source": [
    "#scrape username instagram that we want to analyze\n",
    "for i in range(10): #bcs the number of webpage is until 10\n",
    "    a = i+1\n",
    "    #if response 200 is that webpage can be scraped\n",
    "    url = f'https://starngage.com/app/id/influencer/ranking?page={a}'\n",
    "    \n",
    "    #call function\n",
    "    ranking, username, category = scrape_username(url)"
   ]
  },
  {
   "cell_type": "code",
   "execution_count": 14,
   "metadata": {},
   "outputs": [],
   "source": [
    "inf_dict = {\n",
    "    'username':username,\n",
    "    'ranking':ranking,\n",
    "    'category' : category\n",
    "}"
   ]
  },
  {
   "cell_type": "code",
   "execution_count": 15,
   "metadata": {},
   "outputs": [],
   "source": [
    "#Assign to dataframe\n",
    "df = pd.DataFrame(inf_dict)\n",
    "\n",
    "#do some preprocessing\n",
    "df['username_2'] = df['username'].apply(lambda x: x[1:])\n",
    "df['category'] = df['category'].astype('str')\n",
    "df_2 = df.drop_duplicates().reset_index(drop=True)"
   ]
  },
  {
   "cell_type": "code",
   "execution_count": 16,
   "metadata": {},
   "outputs": [
    {
     "data": {
      "text/html": [
       "<div>\n",
       "<style scoped>\n",
       "    .dataframe tbody tr th:only-of-type {\n",
       "        vertical-align: middle;\n",
       "    }\n",
       "\n",
       "    .dataframe tbody tr th {\n",
       "        vertical-align: top;\n",
       "    }\n",
       "\n",
       "    .dataframe thead th {\n",
       "        text-align: right;\n",
       "    }\n",
       "</style>\n",
       "<table border=\"1\" class=\"dataframe\">\n",
       "  <thead>\n",
       "    <tr style=\"text-align: right;\">\n",
       "      <th></th>\n",
       "      <th>username</th>\n",
       "      <th>ranking</th>\n",
       "      <th>category</th>\n",
       "      <th>username_2</th>\n",
       "    </tr>\n",
       "  </thead>\n",
       "  <tbody>\n",
       "    <tr>\n",
       "      <th>0</th>\n",
       "      <td>@raffinagita1717</td>\n",
       "      <td>1</td>\n",
       "      <td>['Entertainment']</td>\n",
       "      <td>raffinagita1717</td>\n",
       "    </tr>\n",
       "    <tr>\n",
       "      <th>1</th>\n",
       "      <td>@princessyahrini</td>\n",
       "      <td>2</td>\n",
       "      <td>['Singer']</td>\n",
       "      <td>princessyahrini</td>\n",
       "    </tr>\n",
       "    <tr>\n",
       "      <th>2</th>\n",
       "      <td>@laudyacynthiabella</td>\n",
       "      <td>3</td>\n",
       "      <td>['Music of Asia', 'Singer', 'Film, Music &amp; Boo...</td>\n",
       "      <td>laudyacynthiabella</td>\n",
       "    </tr>\n",
       "    <tr>\n",
       "      <th>3</th>\n",
       "      <td>@gisel_la</td>\n",
       "      <td>4</td>\n",
       "      <td>['Music of Asia', 'Singer']</td>\n",
       "      <td>gisel_la</td>\n",
       "    </tr>\n",
       "    <tr>\n",
       "      <th>4</th>\n",
       "      <td>@lunamaya</td>\n",
       "      <td>5</td>\n",
       "      <td>['Actors']</td>\n",
       "      <td>lunamaya</td>\n",
       "    </tr>\n",
       "    <tr>\n",
       "      <th>...</th>\n",
       "      <td>...</td>\n",
       "      <td>...</td>\n",
       "      <td>...</td>\n",
       "      <td>...</td>\n",
       "    </tr>\n",
       "    <tr>\n",
       "      <th>995</th>\n",
       "      <td>@receh.id</td>\n",
       "      <td>996</td>\n",
       "      <td>[]</td>\n",
       "      <td>receh.id</td>\n",
       "    </tr>\n",
       "    <tr>\n",
       "      <th>996</th>\n",
       "      <td>@zigzagbatamnew</td>\n",
       "      <td>997</td>\n",
       "      <td>['Shopping']</td>\n",
       "      <td>zigzagbatamnew</td>\n",
       "    </tr>\n",
       "    <tr>\n",
       "      <th>997</th>\n",
       "      <td>@bioskop</td>\n",
       "      <td>998</td>\n",
       "      <td>['Comics']</td>\n",
       "      <td>bioskop</td>\n",
       "    </tr>\n",
       "    <tr>\n",
       "      <th>998</th>\n",
       "      <td>@hijrahfest</td>\n",
       "      <td>999</td>\n",
       "      <td>[]</td>\n",
       "      <td>hijrahfest</td>\n",
       "    </tr>\n",
       "    <tr>\n",
       "      <th>999</th>\n",
       "      <td>@nala_rinaldo</td>\n",
       "      <td>1000</td>\n",
       "      <td>['Nature &amp; Outdoors', 'Photography', 'Architec...</td>\n",
       "      <td>nala_rinaldo</td>\n",
       "    </tr>\n",
       "  </tbody>\n",
       "</table>\n",
       "<p>1000 rows × 4 columns</p>\n",
       "</div>"
      ],
      "text/plain": [
       "                username ranking  \\\n",
       "0       @raffinagita1717       1   \n",
       "1       @princessyahrini       2   \n",
       "2    @laudyacynthiabella       3   \n",
       "3              @gisel_la       4   \n",
       "4              @lunamaya       5   \n",
       "..                   ...     ...   \n",
       "995            @receh.id     996   \n",
       "996      @zigzagbatamnew     997   \n",
       "997             @bioskop     998   \n",
       "998          @hijrahfest     999   \n",
       "999        @nala_rinaldo    1000   \n",
       "\n",
       "                                              category          username_2  \n",
       "0                                    ['Entertainment']     raffinagita1717  \n",
       "1                                           ['Singer']     princessyahrini  \n",
       "2    ['Music of Asia', 'Singer', 'Film, Music & Boo...  laudyacynthiabella  \n",
       "3                          ['Music of Asia', 'Singer']            gisel_la  \n",
       "4                                           ['Actors']            lunamaya  \n",
       "..                                                 ...                 ...  \n",
       "995                                                 []            receh.id  \n",
       "996                                       ['Shopping']      zigzagbatamnew  \n",
       "997                                         ['Comics']             bioskop  \n",
       "998                                                 []          hijrahfest  \n",
       "999  ['Nature & Outdoors', 'Photography', 'Architec...        nala_rinaldo  \n",
       "\n",
       "[1000 rows x 4 columns]"
      ]
     },
     "execution_count": 16,
     "metadata": {},
     "output_type": "execute_result"
    }
   ],
   "source": [
    "df_2"
   ]
  },
  {
   "cell_type": "code",
   "execution_count": 6,
   "metadata": {},
   "outputs": [],
   "source": [
    "# df_2.to_csv(r'influencer_names_raw.csv', index=False)"
   ]
  },
  {
   "cell_type": "markdown",
   "metadata": {},
   "source": [
    "# 3.0 Scrape General Information\n",
    "- Followers, Following, Jumlah Post"
   ]
  },
  {
   "cell_type": "code",
   "execution_count": 7,
   "metadata": {},
   "outputs": [],
   "source": [
    "df_2['followers'] = 'Null'\n",
    "df_2['following'] = 'Null'\n",
    "df_2['post'] = 'Null'"
   ]
  },
  {
   "cell_type": "code",
   "execution_count": 8,
   "metadata": {
    "scrolled": true
   },
   "outputs": [],
   "source": [
    "#This process is take some time bcs we scrape 1000 influencers data\n",
    "i = 0\n",
    "for name in df_2['username_2']:\n",
    "    # user name \n",
    "    url = f\"https://www.instagram.com/{name}/\"\n",
    "\n",
    "    # calling scrape function\n",
    "    try:\n",
    "        data = scrape_general_info(url)\n",
    "        df_2.loc[i, 'followers'] = data['Followers']\n",
    "        df_2.loc[i, 'following'] = data['Following']\n",
    "        df_2.loc[i, 'post'] = data['Posts']\n",
    "        i += 1\n",
    "    except:\n",
    "        i += 1\n",
    "        continue"
   ]
  },
  {
   "cell_type": "markdown",
   "metadata": {},
   "source": [
    "# 4.0 Data Preprocessing"
   ]
  },
  {
   "cell_type": "markdown",
   "metadata": {},
   "source": [
    "## 4.1 Feature Followers"
   ]
  },
  {
   "cell_type": "code",
   "execution_count": 69,
   "metadata": {},
   "outputs": [],
   "source": [
    "df_3 = df_2[df_2['followers']!='Null'].reset_index(drop=True)"
   ]
  },
  {
   "cell_type": "code",
   "execution_count": 72,
   "metadata": {},
   "outputs": [],
   "source": [
    "df_3['multiplier'] = df_3['followers'].apply(lambda x: x[-1])\n",
    "df_3['followers'] = df_3['followers'].apply(lambda x: x[:-1])\n",
    "df_3['followers_2'] = np.nan"
   ]
  },
  {
   "cell_type": "code",
   "execution_count": 88,
   "metadata": {},
   "outputs": [
    {
     "name": "stderr",
     "output_type": "stream",
     "text": [
      "C:\\Users\\80119075\\AppData\\Local\\Continuum\\anaconda3\\envs\\python-cpu\\lib\\site-packages\\ipykernel_launcher.py:3: SettingWithCopyWarning: \n",
      "A value is trying to be set on a copy of a slice from a DataFrame\n",
      "\n",
      "See the caveats in the documentation: https://pandas.pydata.org/pandas-docs/stable/user_guide/indexing.html#returning-a-view-versus-a-copy\n",
      "  This is separate from the ipykernel package so we can avoid doing imports until\n"
     ]
    }
   ],
   "source": [
    "for i in range(len(df_3)):\n",
    "    try:\n",
    "        df_3['followers_2'][i] = float(df_3['followers'][i])\n",
    "    except:\n",
    "        continue"
   ]
  },
  {
   "cell_type": "code",
   "execution_count": 93,
   "metadata": {},
   "outputs": [],
   "source": [
    "df_4 = df_3[df_3['followers_2'].notnull()].reset_index(drop=True)\n",
    "df_5 = df_4[(df_4['multiplier']=='k') | (df_4['multiplier']=='m')].reset_index(drop=True)"
   ]
  },
  {
   "cell_type": "code",
   "execution_count": 108,
   "metadata": {},
   "outputs": [],
   "source": [
    "df_5['multiplier'] = df_5['multiplier'].replace({\n",
    "    'm' : 1000000,\n",
    "    'k' : 1000\n",
    "})"
   ]
  },
  {
   "cell_type": "code",
   "execution_count": 111,
   "metadata": {},
   "outputs": [],
   "source": [
    "df_5['followers_3'] = (df_5['followers_2'] * df_5['multiplier']).astype('int')"
   ]
  },
  {
   "cell_type": "markdown",
   "metadata": {},
   "source": [
    "## 4.2 Feature Following"
   ]
  },
  {
   "cell_type": "code",
   "execution_count": 195,
   "metadata": {},
   "outputs": [],
   "source": [
    "df_6 = df_5[df_5['following']!='follow'].reset_index(drop=True)\n",
    "df_6['following'] = df_6['following'].replace(r'.,', '', regex=True).astype('int')"
   ]
  },
  {
   "cell_type": "markdown",
   "metadata": {},
   "source": [
    "## 4.3 Feature Post"
   ]
  },
  {
   "cell_type": "code",
   "execution_count": 197,
   "metadata": {},
   "outputs": [],
   "source": [
    "df_6['post'] = df_6['post'].replace(r',', '', regex=True)\n",
    "df_6['multiplier_2'] = df_6['post'].apply(lambda x: x[-1])\n",
    "df_6['multiplier_2'] = df_6['multiplier_2'].apply(lambda x: 1 if x!='k' else 1000)"
   ]
  },
  {
   "cell_type": "code",
   "execution_count": 200,
   "metadata": {},
   "outputs": [],
   "source": [
    "for i in range(len(df_6)):\n",
    "    if df_6['multiplier_2'][i] == 1000:\n",
    "        df_6['post'][i] = float(df_6['post'][i][:-1]) * df_6['multiplier_2'][i]\n",
    "    else:\n",
    "        continue"
   ]
  },
  {
   "cell_type": "code",
   "execution_count": 206,
   "metadata": {},
   "outputs": [],
   "source": [
    "df_final = df_6.drop(columns=['ranking_beauty', 'category', 'followers', 'multiplier',\n",
    "                   'followers_2', 'multiplier_2', 'username']).rename(columns={\n",
    "    'username_2' : 'username',\n",
    "    'followers_3' : 'followers'\n",
    "})"
   ]
  },
  {
   "cell_type": "code",
   "execution_count": 211,
   "metadata": {},
   "outputs": [],
   "source": [
    "df_final['post'] = df_final['post'].astype('int')"
   ]
  },
  {
   "cell_type": "code",
   "execution_count": 212,
   "metadata": {},
   "outputs": [],
   "source": [
    "df_final.to_csv('influencer_names_final.csv', index=False)"
   ]
  }
 ],
 "metadata": {
  "kernelspec": {
   "display_name": "Python 3",
   "language": "python",
   "name": "python3"
  },
  "language_info": {
   "codemirror_mode": {
    "name": "ipython",
    "version": 3
   },
   "file_extension": ".py",
   "mimetype": "text/x-python",
   "name": "python",
   "nbconvert_exporter": "python",
   "pygments_lexer": "ipython3",
   "version": "3.6.10"
  }
 },
 "nbformat": 4,
 "nbformat_minor": 4
}
